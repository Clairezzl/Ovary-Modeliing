{
 "cells": [
  {
   "cell_type": "markdown",
   "metadata": {},
   "source": [
    "# Implement Laker model for follicular growth"
   ]
  },
  {
   "cell_type": "code",
   "execution_count": 1,
   "metadata": {},
   "outputs": [],
   "source": [
    "import numpy as np\n",
    "import pandas as pd\n",
    "import matplotlib.pyplot as plt\n",
    "import seaborn as sns"
   ]
  },
  {
   "cell_type": "code",
   "execution_count": 5,
   "metadata": {},
   "outputs": [],
   "source": [
    "#------------------------------------------------------------------------------------------------\n",
    "# Generate list of names given lengh, n, starting with given label and a number from zero to n\n",
    "#------------------------------------------------------------------------------------------------\n",
    "def make_list_names(n):\n",
    "    name_list = []\n",
    "    for i in range(0, n):\n",
    "        name_list.append(i)\n",
    "    return(name_list)\n",
    "\n",
    "#------------------------------------------------------------------------------------------------\n",
    "# Generate a data frame of folicular sizes with days in rows and follicle number in columns\n",
    "# Day zero is populate from given exponential distribution parameter (exp_par). \n",
    "#------------------------------------------------------------------------------------------------\n",
    "\n",
    "def make_dataframe(nfollicles, ndays):\n",
    "    # Make list of names for rows and columns\n",
    "    column_names =  make_list_names(ndays) \n",
    "    row_names    =  make_list_names(nfollicles)\n",
    "    # Make an empty dataframe of given size\n",
    "    df = pd.DataFrame([], columns = column_names , index=row_names)\n",
    "    # Generate initial set of follicles and save then as a \"day0\" set\n",
    "    return(df)\n",
    "\n",
    "#------------------------------------------------------------------------------------------------\n",
    "# Function to update follicle size\n",
    "#------------------------------------------------------------------------------------------------\n",
    "\n",
    "def model(E,t,M1,M2,M):\n",
    "    k=-(1-M1/M)*(1-M2/M)\n",
    "    dEdt=E+k*E**3\n",
    "    return dEdt\n",
    "#------------------------------------------------------------------------------------------------\n",
    "#  Simulation parameters\n",
    "#------------------------------------------------------------------------------------------------\n",
    "nfollicles = 5\n",
    "time= 2\n",
    "dt=0.05\n",
    "nsteps = int(time/dt)\n",
    "\n",
    "#------------------------------------------------------------------------------------------------\n",
    "#  Initialize sizes of follicles\n",
    "#------------------------------------------------------------------------------------------------  \n",
    "\n",
    "np.random.uniform(0.0,0.05,5)\n",
    "\n",
    "#------------------------------------------------------------------------------------------------\n",
    "#  Run simulation for given number of days\n",
    "#------------------------------------------------------------------------------------------------  \n",
    "M1=15.15\n",
    "M2=3.85\n",
    "M=nfollicles\n",
    "for i in range(1 ,nsteps): \n",
    "  \n",
    "    \n",
    "    \n",
    "    \n",
    "\n"
   ]
  },
  {
   "cell_type": "code",
   "execution_count": 6,
   "metadata": {},
   "outputs": [
    {
     "data": {
      "text/html": [
       "<div>\n",
       "<style scoped>\n",
       "    .dataframe tbody tr th:only-of-type {\n",
       "        vertical-align: middle;\n",
       "    }\n",
       "\n",
       "    .dataframe tbody tr th {\n",
       "        vertical-align: top;\n",
       "    }\n",
       "\n",
       "    .dataframe thead th {\n",
       "        text-align: right;\n",
       "    }\n",
       "</style>\n",
       "<table border=\"1\" class=\"dataframe\">\n",
       "  <thead>\n",
       "    <tr style=\"text-align: right;\">\n",
       "      <th></th>\n",
       "      <th>0</th>\n",
       "      <th>1</th>\n",
       "    </tr>\n",
       "  </thead>\n",
       "  <tbody>\n",
       "    <tr>\n",
       "      <th>0</th>\n",
       "      <td>NaN</td>\n",
       "      <td>NaN</td>\n",
       "    </tr>\n",
       "    <tr>\n",
       "      <th>1</th>\n",
       "      <td>NaN</td>\n",
       "      <td>NaN</td>\n",
       "    </tr>\n",
       "    <tr>\n",
       "      <th>2</th>\n",
       "      <td>NaN</td>\n",
       "      <td>NaN</td>\n",
       "    </tr>\n",
       "    <tr>\n",
       "      <th>3</th>\n",
       "      <td>NaN</td>\n",
       "      <td>NaN</td>\n",
       "    </tr>\n",
       "    <tr>\n",
       "      <th>4</th>\n",
       "      <td>NaN</td>\n",
       "      <td>NaN</td>\n",
       "    </tr>\n",
       "  </tbody>\n",
       "</table>\n",
       "</div>"
      ],
      "text/plain": [
       "     0    1\n",
       "0  NaN  NaN\n",
       "1  NaN  NaN\n",
       "2  NaN  NaN\n",
       "3  NaN  NaN\n",
       "4  NaN  NaN"
      ]
     },
     "execution_count": 6,
     "metadata": {},
     "output_type": "execute_result"
    }
   ],
   "source": [
    "make_dataframe(nfollicles, time)"
   ]
  },
  {
   "cell_type": "code",
   "execution_count": 18,
   "metadata": {},
   "outputs": [],
   "source": [
    "#initial maturity, ie:Ei\n",
    "np.random.uniform(0.0,0.05,5)\n",
    "\n",
    "#maturity function \n",
    "M1=16.5\n",
    "M2=6.5\n",
    "def theta(Ei,E,M1,M2):\n",
    "    return 1-(E-M1*Ei)*(E-M2*E2)\n",
    "    \n",
    "def f(Ei,E):\n",
    "    return Ei*theta(Ei,E)"
   ]
  },
  {
   "cell_type": "code",
   "execution_count": null,
   "metadata": {},
   "outputs": [],
   "source": []
  },
  {
   "cell_type": "code",
   "execution_count": null,
   "metadata": {},
   "outputs": [],
   "source": []
  }
 ],
 "metadata": {
  "kernelspec": {
   "display_name": "Python 3",
   "language": "python",
   "name": "python3"
  },
  "language_info": {
   "codemirror_mode": {
    "name": "ipython",
    "version": 3
   },
   "file_extension": ".py",
   "mimetype": "text/x-python",
   "name": "python",
   "nbconvert_exporter": "python",
   "pygments_lexer": "ipython3",
   "version": "3.7.0"
  }
 },
 "nbformat": 4,
 "nbformat_minor": 2
}
